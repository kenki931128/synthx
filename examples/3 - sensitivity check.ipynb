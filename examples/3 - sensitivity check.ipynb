{
 "cells": [
  {
   "cell_type": "code",
   "execution_count": 1,
   "id": "a7cab1e4-d0c2-4a4e-88b6-137eaecc4b82",
   "metadata": {},
   "outputs": [],
   "source": [
    "import synthx as sx"
   ]
  },
  {
   "cell_type": "markdown",
   "id": "029ac6dc-bb5b-41e9-b97d-fd5487eb1e72",
   "metadata": {},
   "source": [
    "### sensitivity check"
   ]
  },
  {
   "cell_type": "code",
   "execution_count": 2,
   "id": "ec0c5ce1-cbd1-4d8c-bc92-fdc06bfc658d",
   "metadata": {},
   "outputs": [],
   "source": [
    "df = sx.sample(\n",
    "    n_units=20,\n",
    "    n_time=50,\n",
    "    n_observed_covariates=3,\n",
    "    n_unobserved_covariates=10,\n",
    "    intervention_units=1,\n",
    "    intervention_time=40,\n",
    "    intervention_effect=1,\n",
    "    noise_effect=0.5,\n",
    "    scale=2,\n",
    "    seed=42,\n",
    ")"
   ]
  },
  {
   "cell_type": "code",
   "execution_count": 3,
   "id": "c818129e-cbb5-429e-a4dc-584bde7b18b5",
   "metadata": {},
   "outputs": [],
   "source": [
    "dataset = sx.Dataset(\n",
    "    df,\n",
    "    unit_column = 'unit',\n",
    "    time_column = 'time',\n",
    "    y_column = 'y',\n",
    "    covariate_columns = ['covariate_1', 'covariate_2', 'covariate_3'],\n",
    "    intervention_units=1,\n",
    "    intervention_time=40,\n",
    ")"
   ]
  },
  {
   "cell_type": "code",
   "execution_count": 4,
   "id": "a5e959c6-0dae-4e58-ac6f-39c815435b45",
   "metadata": {},
   "outputs": [
    {
     "name": "stderr",
     "output_type": "stream",
     "text": [
      "100%|██████████████████████████████████████████| 19/19 [00:00<00:00, 193.39it/s]\n"
     ]
    }
   ],
   "source": [
    "effect_test, effects_placebo, sc_test, scs_placebo = sx.placebo_test(dataset)"
   ]
  },
  {
   "cell_type": "code",
   "execution_count": 5,
   "id": "faadcd70-376e-4654-9597-1b177eb16121",
   "metadata": {},
   "outputs": [
    {
     "data": {
      "text/plain": [
       "0.3800761193284167"
      ]
     },
     "execution_count": 5,
     "metadata": {},
     "output_type": "execute_result"
    }
   ],
   "source": [
    "sx.stats.calc_p_value(effect_test, effects_placebo)"
   ]
  },
  {
   "cell_type": "code",
   "execution_count": 6,
   "id": "3c5ff52c-c850-430f-81ad-9fc1e3ac1d25",
   "metadata": {},
   "outputs": [
    {
     "name": "stderr",
     "output_type": "stream",
     "text": [
      "uplift: 1.00, p value: 0.3800761193284167.                                      \n",
      "uplift: 1.01, p value: 0.2294051992220436.                                      \n",
      "uplift: 1.02, p value: 0.1296003326679382.                                      \n",
      "uplift: 1.03, p value: 0.06916294574846259.                                     \n",
      "uplift: 1.04, p value: 0.03522837222393027.                                     \n",
      "uplift: 1.05, p value: 0.017306846430708796.                                    \n",
      "  2%|█                                          | 5/200 [00:02<01:34,  2.06it/s]\n"
     ]
    },
    {
     "data": {
      "text/plain": [
       "1.05"
      ]
     },
     "execution_count": 6,
     "metadata": {},
     "output_type": "execute_result"
    }
   ],
   "source": [
    "sx.sensitivity_check(dataset, effects_placebo)"
   ]
  },
  {
   "cell_type": "code",
   "execution_count": null,
   "id": "83f8b813-2fea-4c2b-abd0-2e0c79315364",
   "metadata": {},
   "outputs": [],
   "source": []
  }
 ],
 "metadata": {
  "kernelspec": {
   "display_name": "Python 3 (ipykernel)",
   "language": "python",
   "name": "python3"
  },
  "language_info": {
   "codemirror_mode": {
    "name": "ipython",
    "version": 3
   },
   "file_extension": ".py",
   "mimetype": "text/x-python",
   "name": "python",
   "nbconvert_exporter": "python",
   "pygments_lexer": "ipython3",
   "version": "3.9.18"
  }
 },
 "nbformat": 4,
 "nbformat_minor": 5
}
